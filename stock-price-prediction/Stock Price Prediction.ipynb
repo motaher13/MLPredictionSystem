{
 "cells": [
  {
   "cell_type": "code",
   "execution_count": 2,
   "metadata": {},
   "outputs": [
    {
     "name": "stderr",
     "output_type": "stream",
     "text": [
      "F:\\InstallationFiles\\Anaconda3\\lib\\site-packages\\sklearn\\cross_validation.py:41: DeprecationWarning: This module was deprecated in version 0.18 in favor of the model_selection module into which all the refactored classes and functions are moved. Also note that the interface of the new CV iterators are different from that of this module. This module will be removed in 0.20.\n",
      "  \"This module will be removed in 0.20.\", DeprecationWarning)\n"
     ]
    }
   ],
   "source": [
    "import pandas as pd\n",
    "import quandl, math\n",
    "import numpy as np\n",
    "from sklearn import preprocessing,cross_validation, svm\n",
    "from sklearn.linear_model import LinearRegression"
   ]
  },
  {
   "cell_type": "code",
   "execution_count": 9,
   "metadata": {},
   "outputs": [],
   "source": []
  },
  {
   "cell_type": "code",
   "execution_count": 10,
   "metadata": {},
   "outputs": [],
   "source": []
  },
  {
   "cell_type": "code",
   "execution_count": 3,
   "metadata": {},
   "outputs": [
    {
     "name": "stderr",
     "output_type": "stream",
     "text": [
      "F:\\InstallationFiles\\Anaconda3\\lib\\site-packages\\ipykernel_launcher.py:3: SettingWithCopyWarning: \n",
      "A value is trying to be set on a copy of a slice from a DataFrame.\n",
      "Try using .loc[row_indexer,col_indexer] = value instead\n",
      "\n",
      "See the caveats in the documentation: http://pandas.pydata.org/pandas-docs/stable/indexing.html#indexing-view-versus-copy\n",
      "  This is separate from the ipykernel package so we can avoid doing imports until\n",
      "F:\\InstallationFiles\\Anaconda3\\lib\\site-packages\\ipykernel_launcher.py:4: SettingWithCopyWarning: \n",
      "A value is trying to be set on a copy of a slice from a DataFrame.\n",
      "Try using .loc[row_indexer,col_indexer] = value instead\n",
      "\n",
      "See the caveats in the documentation: http://pandas.pydata.org/pandas-docs/stable/indexing.html#indexing-view-versus-copy\n",
      "  after removing the cwd from sys.path.\n"
     ]
    }
   ],
   "source": [
    "data = pd.read_csv(\"data.csv\")\n",
    "df = data [ ['Adj. Open', 'Adj. High', 'Adj. Low', 'Adj. Close', 'Adj. Volume',] ]\n",
    "df[ 'HL_PCT' ] = (df['Adj. High'] - df['Adj. Close']) / df['Adj. Close'] * 100.0\n",
    "df[ 'PCT_change' ] = (df['Adj. Close'] - df['Adj. Open'] ) / df['Adj. Open'] * 100.0\n",
    "#define a new data frame\n",
    "df = df[ [ 'Adj. Close' , 'HL_PCT' , 'PCT_change', 'Adj. Volume' ] ]"
   ]
  },
  {
   "cell_type": "code",
   "execution_count": 4,
   "metadata": {},
   "outputs": [
    {
     "name": "stdout",
     "output_type": "stream",
     "text": [
      "no of days forecasted  35\n"
     ]
    }
   ],
   "source": [
    "########### FIX THE DATABASE\n",
    "forecast_col = 'Adj. Close'\n",
    "df.fillna(-99999, inplace= True )\n",
    "forecast_out = int ( math.ceil( 0.01 * len(df) ) )  #no. of days to forecast\n",
    "\n",
    "print ( \"no of days forecasted \", forecast_out )"
   ]
  },
  {
   "cell_type": "code",
   "execution_count": 5,
   "metadata": {},
   "outputs": [
    {
     "name": "stdout",
     "output_type": "stream",
     "text": [
      "   Adj. Close    HL_PCT  PCT_change  Adj. Volume      label\n",
      "0   50.322842  3.712563    0.324968   44659000.0  69.078238\n",
      "1   54.322689  0.710922    7.227007   22834300.0  67.839414\n",
      "2   54.869377  3.729433   -1.227880   18256100.0  68.912727\n",
      "3   52.597363  6.417469   -5.726357   15247300.0  70.668146\n",
      "4   53.164113  1.886792    1.183658    9188600.0  71.219849\n",
      "      Adj. Close    HL_PCT  PCT_change  Adj. Volume  label\n",
      "3419     1094.00  1.343693    0.130884    1990515.0    NaN\n",
      "3420     1053.15  2.921711   -2.487014    3418154.0    NaN\n",
      "3421     1026.55  3.918952   -2.360729    2413517.0    NaN\n",
      "3422     1054.09  0.491419    0.332191    3272409.0    NaN\n",
      "3423     1006.94  5.720301   -5.353887    2940957.0    NaN\n"
     ]
    }
   ],
   "source": [
    "df ['label'] = df[forecast_col].shift(-forecast_out)\n",
    "print (df.head() )\n",
    "print (df.tail() )"
   ]
  },
  {
   "cell_type": "code",
   "execution_count": 6,
   "metadata": {},
   "outputs": [
    {
     "name": "stdout",
     "output_type": "stream",
     "text": [
      "      Adj. Close    HL_PCT  PCT_change  Adj. Volume    label\n",
      "3384     1177.37  0.896914   -0.029718    1792602.0  1094.00\n",
      "3385     1182.22  0.346805   -0.134312    1643877.0  1053.15\n",
      "3386     1181.59  0.495942    0.476195    2774967.0  1026.55\n",
      "3387     1119.20  1.081129   -0.729098    5798880.0  1054.09\n",
      "3388     1068.76  4.325574   -2.893850    3742469.0  1006.94\n"
     ]
    }
   ],
   "source": [
    "df.dropna( inplace = True )\n",
    "print (df.tail() )"
   ]
  },
  {
   "cell_type": "code",
   "execution_count": 7,
   "metadata": {},
   "outputs": [],
   "source": [
    "X = np.array( df.drop(['label'], 1) )\n",
    "y = np.array ( df['label'] )\n",
    "X = preprocessing.scale(X)\n",
    "df.dropna(inplace = True )\n",
    "y = np.array( df['label'] )"
   ]
  },
  {
   "cell_type": "code",
   "execution_count": 8,
   "metadata": {},
   "outputs": [
    {
     "name": "stdout",
     "output_type": "stream",
     "text": [
      "0.9788528516332876\n"
     ]
    }
   ],
   "source": [
    "X_train, X_test, y_train, y_test = cross_validation.train_test_split ( X, y, test_size = 0.2 )\n",
    "\n",
    "clf = LinearRegression(n_jobs = -1)\n",
    "clf.fit( X_train, y_train )\n",
    "accuracy = clf.score(X_test, y_test )\n",
    "\n",
    "print ( accuracy) "
   ]
  },
  {
   "cell_type": "code",
   "execution_count": 9,
   "metadata": {},
   "outputs": [
    {
     "data": {
      "text/plain": [
       "0.9844721681674757"
      ]
     },
     "execution_count": 9,
     "metadata": {},
     "output_type": "execute_result"
    }
   ],
   "source": [
    "from sklearn import ensemble\n",
    "clf = ensemble.GradientBoostingRegressor(n_estimators = 400, max_depth = 5, min_samples_split = 2,\n",
    "          learning_rate = 0.1, loss = 'ls')\n",
    "clf.fit(X_train, y_train)\n",
    "clf.score(X_test,y_test)"
   ]
  },
  {
   "cell_type": "code",
   "execution_count": 10,
   "metadata": {},
   "outputs": [
    {
     "name": "stdout",
     "output_type": "stream",
     "text": [
      "0.2196347513699305\n"
     ]
    }
   ],
   "source": [
    "from sklearn import svm\n",
    "model = svm.SVR(kernel='rbf', C=100, gamma=0.0001)\n",
    "model.fit(X_train, y_train)\n",
    "print(model.score(X_test, y_test))"
   ]
  },
  {
   "cell_type": "code",
   "execution_count": 11,
   "metadata": {},
   "outputs": [
    {
     "name": "stdout",
     "output_type": "stream",
     "text": [
      "0.9827564680737794\n"
     ]
    }
   ],
   "source": [
    "from sklearn.tree import DecisionTreeRegressor\n",
    "model = DecisionTreeRegressor(max_depth=4, min_samples_split=2, max_leaf_nodes=17, min_samples_leaf=1)\n",
    "# fit model\n",
    "model.fit(X_train, y_train)\n",
    "print(model.score(X_test, y_test))"
   ]
  },
  {
   "cell_type": "code",
   "execution_count": 12,
   "metadata": {},
   "outputs": [
    {
     "name": "stdout",
     "output_type": "stream",
     "text": [
      "0.9735858240315458\n"
     ]
    }
   ],
   "source": [
    "from sklearn.ensemble import RandomForestRegressor\n",
    "model = RandomForestRegressor(max_features=4, n_estimators=500, bootstrap=False)\n",
    "model.fit(X_train, y_train)\n",
    "print(model.score(X_test, y_test))"
   ]
  },
  {
   "cell_type": "code",
   "execution_count": 13,
   "metadata": {},
   "outputs": [
    {
     "name": "stdout",
     "output_type": "stream",
     "text": [
      "0.9295324029113281\n"
     ]
    },
    {
     "name": "stderr",
     "output_type": "stream",
     "text": [
      "F:\\InstallationFiles\\Anaconda3\\lib\\site-packages\\sklearn\\neural_network\\multilayer_perceptron.py:564: ConvergenceWarning: Stochastic Optimizer: Maximum iterations (500) reached and the optimization hasn't converged yet.\n",
      "  % self.max_iter, ConvergenceWarning)\n"
     ]
    }
   ],
   "source": [
    "from sklearn.neural_network import MLPRegressor\n",
    "mlpreg = MLPRegressor(hidden_layer_sizes=(64, 32), activation='relu',solver='adam', alpha=0.01, learning_rate_init=0.0001, max_iter=500)\n",
    "mlpreg.fit(X_train, y_train)\n",
    "print(mlpreg.score(X_test, y_test))"
   ]
  },
  {
   "cell_type": "code",
   "execution_count": null,
   "metadata": {},
   "outputs": [],
   "source": []
  }
 ],
 "metadata": {
  "kernelspec": {
   "display_name": "Python 3",
   "language": "python",
   "name": "python3"
  },
  "language_info": {
   "codemirror_mode": {
    "name": "ipython",
    "version": 3
   },
   "file_extension": ".py",
   "mimetype": "text/x-python",
   "name": "python",
   "nbconvert_exporter": "python",
   "pygments_lexer": "ipython3",
   "version": "3.6.4"
  }
 },
 "nbformat": 4,
 "nbformat_minor": 2
}
